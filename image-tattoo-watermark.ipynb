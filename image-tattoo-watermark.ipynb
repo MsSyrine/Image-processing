{
 "cells": [
  {
   "cell_type": "code",
   "execution_count": 152,
   "metadata": {
    "scrolled": true
   },
   "outputs": [
    {
     "name": "stdout",
     "output_type": "stream",
     "text": [
      "011010000110010101101100011011000110111101110100011010000110100101110011011010010111001101100001011000100110010101100001011101010111010001101001011001100111010101101100011101110110111101110010011011000110010001101000011011110111000001100101\n"
     ]
    },
    {
     "data": {
      "image/png": "[encoded data removed]",
      "text/plain": [
       "<Figure size 576x576 with 2 Axes>"
      ]
     },
     "metadata": {
      "needs_background": "light"
     },
     "output_type": "display_data"
    },
    {
     "name": "stdout",
     "output_type": "stream",
     "text": [
      "011010000110010101101100011011000110111101110100011010000110100101110011011010010111001101100001011000100110010101100001011101010111010001101001011001100111010101101100011101110110111101110010011011000110010001101000011011110111000001100101\n",
      "hellothisisabeautifulworldhope\n"
     ]
    }
   ],
   "source": [
    "import matplotlib.image as mpimg\n",
    "import numpy as np\n",
    "import matplotlib.pyplot as plt\n",
    "import bitarray\n",
    "from random import randint\n",
    "from skimage import data\n",
    "from skimage.color import rgb2gray\n",
    "\n",
    "\n",
    "def image_display():\n",
    "    img=data.astronaut()\n",
    "    grayscale = rgb2gray(img)\n",
    "    grayscale=(grayscale*255).astype(np.int)\n",
    "    #plt.imshow(grayscale)\n",
    "    #plt.show()    \n",
    "    return grayscale\n",
    "    \n",
    "\n",
    "def convertStringBits(marque):\n",
    "    ba = bitarray.bitarray()    \n",
    "    ba.frombytes(marque.encode('utf-8'))\n",
    "    p=str(ba)\n",
    "    ba=p[10:len(p)-2]\n",
    "    return ba\n",
    "    \n",
    "\n",
    "#return new image, position height and position width\n",
    "def randomChoice(marque,image):\n",
    "    \n",
    "    l=len(marque)\n",
    "    line=image.shape[0]\n",
    "    col=image.shape[1]\n",
    "    val1=randint(0,line-l)\n",
    "    val2=randint(0,col-8)\n",
    "    newimg=image[val1:val1+l,val2:val2+8]\n",
    "    return newimg,val1,val2\n",
    "    #plt.imshow(newimg)\n",
    "    #plt.show()    \n",
    "\n",
    "def tattoo(mrq,zone):\n",
    "    k=-1\n",
    "    newzone=np.zeros((zone.shape[0],zone.shape[1]),dtype=int)\n",
    "    print(mrq)\n",
    "    for i in range(zone.shape[0]):\n",
    "        for j in range(zone.shape[1]):\n",
    "            newzone[i,j]='{0:08b}'.format(zone[i,j])\n",
    "            t=str(newzone[i,j])\n",
    "            t=t[0:7]\n",
    "            k=k+1\n",
    "            t=t+mrq[k] \n",
    "            newzone[i,j]= int(t,2)\n",
    "            \n",
    "\n",
    "    fig, axes = plt.subplots(1, 2, figsize=(8, 8))\n",
    "    ax = axes.ravel()\n",
    "    ax[0].imshow(zone, cmap=plt.cm.gray)\n",
    "    ax[0].set_title(\"Original\")\n",
    "    ax[1].imshow(newzone, cmap=plt.cm.gray)\n",
    "    ax[1].set_title(\"tattooed image\")\n",
    "    fig.tight_layout()\n",
    "    plt.show() \n",
    "    #print(newzone)\n",
    "    return newzone \n",
    "\n",
    "def bits2a(b):\n",
    "    return ''.join(chr(int(''.join(x), 2)) for x in zip(*[iter(b)]*8))\n",
    "    \n",
    "def extractTattoo(z,posLine, posCol,lenMarq):\n",
    "    mk=''\n",
    "    #zone=img[posLine:posLine+lenMarq,posCol:posCol+8]\n",
    "    #zone= rgb2gray(img)\n",
    "    #zone=(zone*255).astype(np.int)\n",
    "    for i in range(z.shape[0]):\n",
    "        for j in range(z.shape[1]):\n",
    "            pix='{0:08b}'.format(z[i,j])\n",
    "            ch=str(pix)\n",
    "            mk=mk+ch[7]\n",
    "            \n",
    "    print(mk)       \n",
    "    print(bits2a(mk))\n",
    "    \n",
    "    \n",
    "    \n",
    "    \n",
    "    \n",
    "img=image_display()\n",
    "marque=\"hellothisisabeautifulworldhope\"\n",
    "mrq=convertStringBits(marque)\n",
    "#print(mrq)\n",
    "zone,v1,v2=randomChoice(marque,img)\n",
    "tattooedZone=tattoo(mrq,zone)\n",
    "extractTattoo(tattooedZone,v1,v2,len(marque))\n",
    "\n",
    "\n",
    "    \n",
    "\n",
    "\n",
    "\n",
    "\n",
    "    \n"
   ]
  },
  {
   "cell_type": "code",
   "execution_count": 299,
   "metadata": {},
   "outputs": [],
   "source": [
    "tattoo=plt.imread('./fourth.png')\n",
    "#grayscale = rgb2gray(tattoo)\n",
    "#tattoo=(grayscale*255).astype(np.int)\n",
    "img=data.astronaut()\n",
    "#grayscale = rgb2gray(img)\n",
    "#img=(grayscale*255).astype(np.int)\n",
    "\n",
    "def randomChoiceImage(tattoo,image):\n",
    "    \n",
    "    l=(tattoo.shape[0])*8\n",
    "    line=image.shape[0]\n",
    "    col=image.shape[1]\n",
    "    val1=randint(0,line-l)\n",
    "    val2=randint(0,col-l)\n",
    "    newimg=image[val1:val1+l,val2:val2+l,:]\n",
    "    return newimg\n",
    "    #plt.imshow(newimg)\n",
    "    #plt.show()\n",
    "    \n",
    "def tattooImage(tattoo,zone):\n",
    "    tattoo=(tattoo*255).astype(np.int)\n",
    "    n=[0,0,0]\n",
    "    newzone=np.zeros((tattoo.shape[0]*8,tattoo.shape[1]*8, tattoo.shape[2]),dtype=int) \n",
    "    for i in range(tattoo.shape[0]*8):\n",
    "            for j in range(tattoo.shape[1]*8):\n",
    "                for s in range (tattoo.shape[2]):\n",
    "                        binary = '{0:08b}'.format(tattoo[int(i/8),int(j/8)][s-1])\n",
    "                        x='{0:08b}'.format(zone[i][j][s-1])\n",
    "                      \n",
    "                        t=str(x)\n",
    "                      \n",
    "                        t=t[0:7]\n",
    "                        t=t+binary[n[s-1]]\n",
    "                        n[s-1]=n[s-1]+1\n",
    "                      \n",
    "                        if(n[s-1]==8):\n",
    "                            n[s-1]=0\n",
    "                        newzone[i,j][s-1]= int(t,2)\n",
    "\n",
    "    fig, axes = plt.subplots(1, 2, figsize=(8, 8))\n",
    "    ax = axes.ravel()\n",
    "    ax[0].imshow(zone, cmap=plt.cm.gray)\n",
    "    ax[0].set_title(\"Original\")\n",
    "    ax[1].imshow(newzone)\n",
    "    ax[1].set_title(\"tattooed image\")\n",
    "    fig.tight_layout()\n",
    "    plt.show() \n",
    "    #print(newzone)\n",
    "    return newzone \n",
    "\n",
    "\n",
    "def extractTattooImage(z):\n",
    "    mk=['','','']\n",
    "    #zone=img[posLine:posLine+lenMarq,posCol:posCol+8]\n",
    "    #zone= rgb2gray(img)\n",
    "    #zone=(zone*255).astype(np.int)\n",
    "    picture=np.zeros((tattoo.shape[0],tattoo.shape[1], tattoo.shape[2]),dtype=int) \n",
    "    for i in range(z.shape[0]):\n",
    "        for j in range(z.shape[1]):\n",
    "            for s in range(3):\n",
    "                pix='{0:08b}'.format(z[i,j][s-1])\n",
    "                ch=str(pix)\n",
    "                mk[s-1]=mk[s-1]+ch[7]\n",
    "                if (len(mk[s-1])==8):\n",
    "                    picture[int(i/8),int(j/8),s-1]=int(mk[s-1],2)\n",
    "                    mk[s-1]=''\n",
    "                    \n",
    "            \n",
    "    return picture\n",
    "    \n",
    "\n",
    "z = randomChoiceImage(tattoo,img)\n",
    "newzone=tattooImage(tattoo,z)\n",
    "picture= extractTattooImage(newzone)\n",
    "#plt.imshow(tattoo)\n",
    "plt.imshow(picture)\n",
    "print(len(img[:,0]))\n"
   ]
  },
  {
   "cell_type": "code",
   "execution_count": null,
   "metadata": {},
   "outputs": [],
   "source": []
  },
  {
   "cell_type": "code",
   "execution_count": null,
   "metadata": {},
   "outputs": [],
   "source": []
  },
  {
   "cell_type": "code",
   "execution_count": 15,
   "metadata": {},
   "outputs": [
    {
     "name": "stdout",
     "output_type": "stream",
     "text": [
      "[[ 48 169 188]\n",
      " [ 47 170 188]\n",
      " [ 49 165 178]\n",
      " [ 51 169 181]\n",
      " [ 45 171 185]\n",
      " [ 39 169 182]\n",
      " [ 40 173 188]\n",
      " [ 45 175 191]\n",
      " [ 47 172 190]\n",
      " [ 47 170 188]\n",
      " [ 29 177 205]\n",
      " [ 40 176 192]\n",
      " [ 51 171 185]\n",
      " [ 49 169 185]\n",
      " [ 42 171 192]\n",
      " [ 39 175 197]\n",
      " [ 43 175 188]\n",
      " [ 47 171 179]\n",
      " [ 48 169 188]\n",
      " [ 48 169 188]\n",
      " [ 48 169 188]\n",
      " [ 48 169 188]\n",
      " [ 48 169 188]\n",
      " [ 48 169 188]\n",
      " [ 48 169 188]\n",
      " [ 48 169 188]\n",
      " [ 48 169 188]\n",
      " [ 48 169 188]\n",
      " [ 48 169 188]\n",
      " [ 48 169 188]\n",
      " [ 48 169 188]\n",
      " [ 48 169 188]]\n"
     ]
    }
   ],
   "source": [
    "print((tattoo[3]*255).astype(np.int))"
   ]
  },
  {
   "cell_type": "code",
   "execution_count": 301,
   "metadata": {},
   "outputs": [],
   "source": [
    "z = randomChoiceImage(tattoo,img)"
   ]
  },
  {
   "cell_type": "code",
   "execution_count": 72,
   "metadata": {},
   "outputs": [
    {
     "name": "stdout",
     "output_type": "stream",
     "text": [
      "256\n"
     ]
    }
   ],
   "source": [
    "print(len(z[0][1]))"
   ]
  },
  {
   "cell_type": "code",
   "execution_count": 78,
   "metadata": {},
   "outputs": [
    {
     "name": "stdout",
     "output_type": "stream",
     "text": [
      "166\n"
     ]
    }
   ],
   "source": [
    "print(z[0][1][0][0])"
   ]
  },
  {
   "cell_type": "code",
   "execution_count": null,
   "metadata": {},
   "outputs": [],
   "source": []
  },
  {
   "cell_type": "code",
   "execution_count": null,
   "metadata": {},
   "outputs": [],
   "source": []
  },
  {
   "cell_type": "code",
   "execution_count": null,
   "metadata": {},
   "outputs": [],
   "source": []
  },
  {
   "cell_type": "code",
   "execution_count": 62,
   "metadata": {},
   "outputs": [
    {
     "data": {
      "text/plain": [
       "array([154, 147, 151], dtype=uint8)"
      ]
     },
     "execution_count": 62,
     "metadata": {},
     "output_type": "execute_result"
    }
   ],
   "source": [
    "img[0][0]"
   ]
  },
  {
   "cell_type": "code",
   "execution_count": null,
   "metadata": {},
   "outputs": [],
   "source": []
  },
  {
   "cell_type": "code",
   "execution_count": null,
   "metadata": {},
   "outputs": [],
   "source": []
  },
  {
   "cell_type": "code",
   "execution_count": null,
   "metadata": {},
   "outputs": [],
   "source": []
  },
  {
   "cell_type": "code",
   "execution_count": null,
   "metadata": {},
   "outputs": [],
   "source": []
  },
  {
   "cell_type": "code",
   "execution_count": null,
   "metadata": {},
   "outputs": [],
   "source": []
  },
  {
   "cell_type": "code",
   "execution_count": null,
   "metadata": {},
   "outputs": [],
   "source": []
  },
  {
   "cell_type": "code",
   "execution_count": null,
   "metadata": {},
   "outputs": [],
   "source": []
  },
  {
   "cell_type": "code",
   "execution_count": 330,
   "metadata": {},
   "outputs": [],
   "source": [
    "picture= extractTattooImage(newzone)"
   ]
  },
  {
   "cell_type": "code",
   "execution_count": 190,
   "metadata": {},
   "outputs": [
    {
     "name": "stdout",
     "output_type": "stream",
     "text": [
      "[[[0.69019608 0.23921569 0.65882353]\n",
      "  [0.69019608 0.23921569 0.65882353]\n",
      "  [0.6627451  0.04313725 0.89803922]\n",
      "  ...\n",
      "  [0.69019608 0.23921569 0.65882353]\n",
      "  [0.69019608 0.23921569 0.65882353]\n",
      "  [0.69019608 0.23921569 0.65882353]]\n",
      "\n",
      " [[0.69803922 0.22352941 0.65882353]\n",
      "  [0.69019608 0.23921569 0.65882353]\n",
      "  [0.71372549 0.24705882 0.6627451 ]\n",
      "  ...\n",
      "  [0.69019608 0.23921569 0.65882353]\n",
      "  [0.69019608 0.23921569 0.65882353]\n",
      "  [0.69019608 0.23921569 0.65882353]]\n",
      "\n",
      " [[0.73333333 0.16470588 0.67843137]\n",
      "  [0.69019608 0.23921569 0.65882353]\n",
      "  [0.69411765 0.22352941 0.68627451]\n",
      "  ...\n",
      "  [0.69019608 0.23921569 0.65882353]\n",
      "  [0.69019608 0.23921569 0.65882353]\n",
      "  [0.69019608 0.23921569 0.65882353]]\n",
      "\n",
      " ...\n",
      "\n",
      " [[0.69019608 0.23921569 0.65882353]\n",
      "  [0.69019608 0.23921569 0.65882353]\n",
      "  [0.69019608 0.23921569 0.65882353]\n",
      "  ...\n",
      "  [0.69019608 0.23921569 0.65882353]\n",
      "  [0.69019608 0.23921569 0.65882353]\n",
      "  [0.69019608 0.23921569 0.65882353]]\n",
      "\n",
      " [[0.69019608 0.23921569 0.65882353]\n",
      "  [0.69019608 0.23921569 0.65882353]\n",
      "  [0.69019608 0.23921569 0.65882353]\n",
      "  ...\n",
      "  [0.69019608 0.23921569 0.65882353]\n",
      "  [0.69019608 0.23921569 0.65882353]\n",
      "  [0.69019608 0.23921569 0.65882353]]\n",
      "\n",
      " [[0.69019608 0.23921569 0.65882353]\n",
      "  [0.69019608 0.23921569 0.65882353]\n",
      "  [0.69019608 0.23921569 0.65882353]\n",
      "  ...\n",
      "  [0.69019608 0.23921569 0.65882353]\n",
      "  [0.69019608 0.23921569 0.65882353]\n",
      "  [0.69411765 0.23529412 0.67058824]]]\n"
     ]
    }
   ],
   "source": [
    "print(picture/255)"
   ]
  },
  {
   "cell_type": "code",
   "execution_count": 315,
   "metadata": {},
   "outputs": [
    {
     "name": "stdout",
     "output_type": "stream",
     "text": [
      "[[[0.69019608 0.23921569 0.65882353]\n",
      "  [0.69019608 0.23921569 0.65882353]\n",
      "  [0.6627451  0.04313725 0.89803922]\n",
      "  ...\n",
      "  [0.69019608 0.23921569 0.65882353]\n",
      "  [0.69019608 0.23921569 0.65882353]\n",
      "  [0.69019608 0.23921569 0.65882353]]\n",
      "\n",
      " [[0.69803922 0.22352941 0.65882353]\n",
      "  [0.69019608 0.23921569 0.65882353]\n",
      "  [0.71372549 0.24705882 0.6627451 ]\n",
      "  ...\n",
      "  [0.69019608 0.23921569 0.65882353]\n",
      "  [0.69019608 0.23921569 0.65882353]\n",
      "  [0.69019608 0.23921569 0.65882353]]\n",
      "\n",
      " [[0.73333333 0.16470588 0.67843137]\n",
      "  [0.69019608 0.23921569 0.65882353]\n",
      "  [0.69411765 0.22352941 0.68627451]\n",
      "  ...\n",
      "  [0.69019608 0.23921569 0.65882353]\n",
      "  [0.69019608 0.23921569 0.65882353]\n",
      "  [0.69019608 0.23921569 0.65882353]]\n",
      "\n",
      " ...\n",
      "\n",
      " [[0.69019608 0.23921569 0.65882353]\n",
      "  [0.69019608 0.23921569 0.65882353]\n",
      "  [0.69019608 0.23921569 0.65882353]\n",
      "  ...\n",
      "  [0.69019608 0.23921569 0.65882353]\n",
      "  [0.69019608 0.23921569 0.65882353]\n",
      "  [0.69019608 0.23921569 0.65882353]]\n",
      "\n",
      " [[0.69019608 0.23921569 0.65882353]\n",
      "  [0.69019608 0.23921569 0.65882353]\n",
      "  [0.69019608 0.23921569 0.65882353]\n",
      "  ...\n",
      "  [0.69019608 0.23921569 0.65882353]\n",
      "  [0.69019608 0.23921569 0.65882353]\n",
      "  [0.69019608 0.23921569 0.65882353]]\n",
      "\n",
      " [[0.69019608 0.23921569 0.65882353]\n",
      "  [0.69019608 0.23921569 0.65882353]\n",
      "  [0.69019608 0.23921569 0.65882353]\n",
      "  ...\n",
      "  [0.69019608 0.23921569 0.65882353]\n",
      "  [0.69019608 0.23921569 0.65882353]\n",
      "  [0.69411765 0.23529412 0.67058824]]]\n"
     ]
    }
   ],
   "source": [
    "print(picture/255)"
   ]
  },
  {
   "cell_type": "code",
   "execution_count": 314,
   "metadata": {},
   "outputs": [
    {
     "name": "stdout",
     "output_type": "stream",
     "text": [
      "[[[0.1882353  0.6627451  0.7372549 ]\n",
      "  [0.1882353  0.6627451  0.7372549 ]\n",
      "  [0.18431373 0.6627451  0.75686276]\n",
      "  ...\n",
      "  [0.1882353  0.6627451  0.7372549 ]\n",
      "  [0.1882353  0.6627451  0.7372549 ]\n",
      "  [0.1882353  0.6627451  0.7372549 ]]\n",
      "\n",
      " [[0.1882353  0.6627451  0.7294118 ]\n",
      "  [0.1882353  0.6627451  0.7372549 ]\n",
      "  [0.19607843 0.6784314  0.7490196 ]\n",
      "  ...\n",
      "  [0.1882353  0.6627451  0.7372549 ]\n",
      "  [0.1882353  0.6627451  0.7372549 ]\n",
      "  [0.1882353  0.6627451  0.7372549 ]]\n",
      "\n",
      " [[0.18431373 0.65882355 0.73333335]\n",
      "  [0.1882353  0.6627451  0.7372549 ]\n",
      "  [0.20784314 0.67058825 0.7254902 ]\n",
      "  ...\n",
      "  [0.1882353  0.6627451  0.7372549 ]\n",
      "  [0.1882353  0.6627451  0.7372549 ]\n",
      "  [0.1882353  0.6627451  0.7372549 ]]\n",
      "\n",
      " ...\n",
      "\n",
      " [[0.1882353  0.6627451  0.7372549 ]\n",
      "  [0.1882353  0.6627451  0.7372549 ]\n",
      "  [0.1882353  0.6627451  0.7372549 ]\n",
      "  ...\n",
      "  [0.1882353  0.6627451  0.7372549 ]\n",
      "  [0.1882353  0.6627451  0.7372549 ]\n",
      "  [0.1882353  0.6627451  0.7372549 ]]\n",
      "\n",
      " [[0.1882353  0.6627451  0.7372549 ]\n",
      "  [0.1882353  0.6627451  0.7372549 ]\n",
      "  [0.1882353  0.6627451  0.7372549 ]\n",
      "  ...\n",
      "  [0.1882353  0.6627451  0.7372549 ]\n",
      "  [0.1882353  0.6627451  0.7372549 ]\n",
      "  [0.1882353  0.6627451  0.7372549 ]]\n",
      "\n",
      " [[0.1882353  0.6627451  0.7372549 ]\n",
      "  [0.1882353  0.6627451  0.7372549 ]\n",
      "  [0.1882353  0.6627451  0.7372549 ]\n",
      "  ...\n",
      "  [0.1882353  0.6627451  0.7372549 ]\n",
      "  [0.1882353  0.6627451  0.7372549 ]\n",
      "  [0.19215687 0.6666667  0.7411765 ]]]\n"
     ]
    }
   ],
   "source": [
    "print(tattoo)"
   ]
  },
  {
   "cell_type": "code",
   "execution_count": 331,
   "metadata": {},
   "outputs": [
    {
     "data": {
      "text/plain": [
       "<matplotlib.image.AxesImage at 0xa0970b8>"
      ]
     },
     "execution_count": 331,
     "metadata": {},
     "output_type": "execute_result"
    },
    {
     "data": {
      "image/png": "[encoded data removed]",
      "text/plain": [
       "<Figure size 432x288 with 1 Axes>"
      ]
     },
     "metadata": {
      "needs_background": "light"
     },
     "output_type": "display_data"
    }
   ],
   "source": [
    "plt.imshow(picture)"
   ]
  },
  {
   "cell_type": "code",
   "execution_count": 332,
   "metadata": {},
   "outputs": [
    {
     "data": {
      "text/plain": [
       "<matplotlib.image.AxesImage at 0xd63a588>"
      ]
     },
     "execution_count": 332,
     "metadata": {},
     "output_type": "execute_result"
    },
    {
     "data": {
      "image/png": "[encoded data removed]",
      "text/plain": [
       "<Figure size 432x288 with 1 Axes>"
      ]
     },
     "metadata": {
      "needs_background": "light"
     },
     "output_type": "display_data"
    }
   ],
   "source": [
    "plt.imshow(tattoo)\n",
    "#grayscale = rgb2gray(tattoo)\n",
    "#tattoo=(grayscale*255).astype(np.int)"
   ]
  },
  {
   "cell_type": "code",
   "execution_count": 173,
   "metadata": {},
   "outputs": [
    {
     "name": "stdout",
     "output_type": "stream",
     "text": [
      "[[[214  23  53]\n",
      "  [188  18  49]\n",
      "  [180  15  50]\n",
      "  ...\n",
      "  [214 206 204]\n",
      "  [215 205 203]\n",
      "  [216 209 205]]\n",
      "\n",
      " [[212  23  53]\n",
      "  [200  20  55]\n",
      "  [176  15  46]\n",
      "  ...\n",
      "  [214 206 200]\n",
      "  [213 205 201]\n",
      "  [216 207 207]]\n",
      "\n",
      " [[220  23  59]\n",
      "  [200  18  55]\n",
      "  [178  17  46]\n",
      "  ...\n",
      "  [214 204 202]\n",
      "  [215 205 205]\n",
      "  [216 207 207]]\n",
      "\n",
      " ...\n",
      "\n",
      " [[226 239 161]\n",
      "  [226 234 157]\n",
      "  [224 233 152]\n",
      "  ...\n",
      "  [174 138  65]\n",
      "  [185 155  69]\n",
      "  [196 174 109]]\n",
      "\n",
      " [[226 241 157]\n",
      "  [228 242 155]\n",
      "  [228 253 166]\n",
      "  ...\n",
      "  [174 136  61]\n",
      "  [185 159  75]\n",
      "  [198 178 115]]\n",
      "\n",
      " [[226 245 165]\n",
      "  [232 130 185]\n",
      "  [234 133 186]\n",
      "  ...\n",
      "  [178 140  61]\n",
      "  [191 161  87]\n",
      "  [198 180 109]]]\n"
     ]
    }
   ],
   "source": [
    "print(newzone)"
   ]
  },
  {
   "cell_type": "code",
   "execution_count": 174,
   "metadata": {},
   "outputs": [
    {
     "name": "stdout",
     "output_type": "stream",
     "text": [
      "[[[0.1882353  0.6627451  0.7372549 ]\n",
      "  [0.1882353  0.6627451  0.7372549 ]\n",
      "  [0.18431373 0.6627451  0.75686276]\n",
      "  ...\n",
      "  [0.1882353  0.6627451  0.7372549 ]\n",
      "  [0.1882353  0.6627451  0.7372549 ]\n",
      "  [0.1882353  0.6627451  0.7372549 ]]\n",
      "\n",
      " [[0.1882353  0.6627451  0.7294118 ]\n",
      "  [0.1882353  0.6627451  0.7372549 ]\n",
      "  [0.19607843 0.6784314  0.7490196 ]\n",
      "  ...\n",
      "  [0.1882353  0.6627451  0.7372549 ]\n",
      "  [0.1882353  0.6627451  0.7372549 ]\n",
      "  [0.1882353  0.6627451  0.7372549 ]]\n",
      "\n",
      " [[0.18431373 0.65882355 0.73333335]\n",
      "  [0.1882353  0.6627451  0.7372549 ]\n",
      "  [0.20784314 0.67058825 0.7254902 ]\n",
      "  ...\n",
      "  [0.1882353  0.6627451  0.7372549 ]\n",
      "  [0.1882353  0.6627451  0.7372549 ]\n",
      "  [0.1882353  0.6627451  0.7372549 ]]\n",
      "\n",
      " ...\n",
      "\n",
      " [[0.1882353  0.6627451  0.7372549 ]\n",
      "  [0.1882353  0.6627451  0.7372549 ]\n",
      "  [0.1882353  0.6627451  0.7372549 ]\n",
      "  ...\n",
      "  [0.1882353  0.6627451  0.7372549 ]\n",
      "  [0.1882353  0.6627451  0.7372549 ]\n",
      "  [0.1882353  0.6627451  0.7372549 ]]\n",
      "\n",
      " [[0.1882353  0.6627451  0.7372549 ]\n",
      "  [0.1882353  0.6627451  0.7372549 ]\n",
      "  [0.1882353  0.6627451  0.7372549 ]\n",
      "  ...\n",
      "  [0.1882353  0.6627451  0.7372549 ]\n",
      "  [0.1882353  0.6627451  0.7372549 ]\n",
      "  [0.1882353  0.6627451  0.7372549 ]]\n",
      "\n",
      " [[0.1882353  0.6627451  0.7372549 ]\n",
      "  [0.1882353  0.6627451  0.7372549 ]\n",
      "  [0.1882353  0.6627451  0.7372549 ]\n",
      "  ...\n",
      "  [0.1882353  0.6627451  0.7372549 ]\n",
      "  [0.1882353  0.6627451  0.7372549 ]\n",
      "  [0.19215687 0.6666667  0.7411765 ]]]\n"
     ]
    }
   ],
   "source": [
    "print(tattoo)"
   ]
  },
  {
   "cell_type": "code",
   "execution_count": null,
   "metadata": {},
   "outputs": [],
   "source": []
  },
  {
   "cell_type": "code",
   "execution_count": null,
   "metadata": {},
   "outputs": [],
   "source": []
  }
 ],
 "metadata": {
  "kernelspec": {
   "display_name": "Python 3",
   "language": "python",
   "name": "python3"
  },
  "language_info": {
   "codemirror_mode": {
    "name": "ipython",
    "version": 3
   },
   "file_extension": ".py",
   "mimetype": "text/x-python",
   "name": "python",
   "nbconvert_exporter": "python",
   "pygments_lexer": "ipython3",
   "version": "3.8.5"
  }
 },
 "nbformat": 4,
 "nbformat_minor": 4
}
